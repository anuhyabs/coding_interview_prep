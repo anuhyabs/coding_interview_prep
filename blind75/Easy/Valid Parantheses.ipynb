{
 "cells": [
  {
   "attachments": {},
   "cell_type": "markdown",
   "metadata": {},
   "source": [
    "## Valid Parentheses\n",
    "\n",
    "Given a string s containing just the characters '(', ')', '{', '}', '[' and ']', determine if the input string is valid.\n",
    "\n",
    "An input string is valid if:\n",
    "\n",
    "Open brackets must be closed by the same type of brackets. \\\n",
    "Open brackets must be closed in the correct order. \\\n",
    "Every close bracket has a corresponding open bracket of the same type."
   ]
  },
  {
   "attachments": {},
   "cell_type": "markdown",
   "metadata": {},
   "source": [
    "Example 1:\n",
    "```\n",
    "Input: s = \"()\"\n",
    "Output: true\n",
    "```\n",
    "\n",
    "Example 2:\n",
    "```\n",
    "Input: s = \"()[]{}\"\n",
    "Output: true\n",
    "```\n",
    "\n",
    "Example 3:\n",
    "```\n",
    "Input: s = \"(]\"\n",
    "Output: false\n",
    "```"
   ]
  },
  {
   "attachments": {},
   "cell_type": "markdown",
   "metadata": {},
   "source": [
    "Constraints:\n",
    "\n",
    "- 1 <= s.length <= 10^4\n",
    "- s consists of parentheses only '()[]{}'."
   ]
  },
  {
   "cell_type": "code",
   "execution_count": 14,
   "metadata": {},
   "outputs": [],
   "source": [
    "def isValid(s):\n",
    "    '''\n",
    "    Create a dictionary to keep a tract of combining brackets\n",
    "    This is a stack problem. Once you find the corresponding bracket match you delete both elements from the stack.\n",
    "    First initialise an empty stack.\n",
    "    Loop over the length of the string.\n",
    "    If the character is a closing bracket:\n",
    "        If i==0, return False.\n",
    "        else: \n",
    "            if dict[i] == stack[i-1]:\n",
    "                stack.pop()\n",
    "                stack.pop()\n",
    "    If not, append the character to the stack.\n",
    "\n",
    "    '''\n",
    "    dict = {')':'(','}':'{',']':'['}\n",
    "    if s[0] in dict:\n",
    "         return False\n",
    "    stack = [s[0]]\n",
    "    for i in range(1,len(s)):\n",
    "        if s[i] in dict:\n",
    "            if not stack:\n",
    "                return False\n",
    "            elif dict[s[i]]==stack[-1]:\n",
    "                stack.pop()\n",
    "        else:\n",
    "            stack.append(s[i])\n",
    "\n",
    "    return (len(stack)==0)"
   ]
  },
  {
   "cell_type": "code",
   "execution_count": 16,
   "metadata": {},
   "outputs": [
    {
     "name": "stdout",
     "output_type": "stream",
     "text": [
      "True\n"
     ]
    }
   ],
   "source": [
    "# Test Case 1\n",
    "s = \"()\"\n",
    "print(isValid(s))"
   ]
  },
  {
   "cell_type": "code",
   "execution_count": 17,
   "metadata": {},
   "outputs": [
    {
     "name": "stdout",
     "output_type": "stream",
     "text": [
      "True\n"
     ]
    }
   ],
   "source": [
    "# Test Case 2\n",
    "s = \"()[]{}\"\n",
    "print(isValid(s))"
   ]
  },
  {
   "cell_type": "code",
   "execution_count": 19,
   "metadata": {},
   "outputs": [
    {
     "name": "stdout",
     "output_type": "stream",
     "text": [
      "False\n"
     ]
    }
   ],
   "source": [
    "# Test Case 3\n",
    "s = \"(]\"\n",
    "print(isValid(s))"
   ]
  }
 ],
 "metadata": {
  "kernelspec": {
   "display_name": "Python 3",
   "language": "python",
   "name": "python3"
  },
  "language_info": {
   "codemirror_mode": {
    "name": "ipython",
    "version": 3
   },
   "file_extension": ".py",
   "mimetype": "text/x-python",
   "name": "python",
   "nbconvert_exporter": "python",
   "pygments_lexer": "ipython3",
   "version": "3.11.0"
  },
  "orig_nbformat": 4
 },
 "nbformat": 4,
 "nbformat_minor": 2
}
